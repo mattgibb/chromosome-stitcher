{
 "cells": [
  {
   "cell_type": "code",
   "execution_count": 49,
   "metadata": {
    "collapsed": false
   },
   "outputs": [
    {
     "name": "stderr",
     "output_type": "stream",
     "text": [
      "/Users/matt/anaconda/lib/python3.4/site-packages/matplotlib/__init__.py:872: UserWarning: axes.color_cycle is deprecated and replaced with axes.prop_cycle; please use the latter.\n",
      "  warnings.warn(self.msg_depr % (key, alt_key))\n"
     ]
    }
   ],
   "source": [
    "%matplotlib inline\n",
    "import pandas as pd\n",
    "import matplotlib\n",
    "import matplotlib.pyplot as plt\n",
    "import seaborn as sns"
   ]
  },
  {
   "cell_type": "code",
   "execution_count": 52,
   "metadata": {
    "collapsed": false
   },
   "outputs": [],
   "source": [
    "# see the whole width of the table\n",
    "pd.options.display.max_columns = 60\n",
    "pd.options.display.max_rows = 20\n",
    "\n",
    "# default plot settings\n",
    "matplotlib.rc(\"figure\", figsize=(12, 7))"
   ]
  },
  {
   "cell_type": "markdown",
   "metadata": {},
   "source": [
    "# Read in data"
   ]
  },
  {
   "cell_type": "markdown",
   "metadata": {},
   "source": [
    "Let's take a cheeky look at the data. It's in the FASTA format:\n",
    "\n",
    "https://en.wikipedia.org/wiki/FASTA_format\n",
    "\n",
    "Here's the example from the challenge email:"
   ]
  },
  {
   "cell_type": "code",
   "execution_count": 11,
   "metadata": {
    "collapsed": false
   },
   "outputs": [],
   "source": [
    "example_input = \"\"\">Frag_56\n",
    "ATTAGACCTG\n",
    ">Frag_57\n",
    "CCTGCCGGAA\n",
    ">Frag_58\n",
    "AGACCTGCCG\n",
    ">Frag_59\n",
    "GCCGGAATAC\n",
    "\"\"\"\n",
    "\n",
    "example_output = \"ATTAGACCTGCCGGAATAC\""
   ]
  },
  {
   "cell_type": "code",
   "execution_count": 9,
   "metadata": {
    "collapsed": false,
    "scrolled": true
   },
   "outputs": [
    {
     "name": "stdout",
     "output_type": "stream",
     "text": [
      ">Rosalind_1836\n",
      "GCGCCCGGGGCAAGAGTCATTATACTTGAGAATATACATTTAACAGCGGGCTCATAGCAC\n",
      "AGCAGTTATAAAAGAGGCAGATTCCGACCCCTTAGGGACTATAGGTTTTCTGGGTGTCAA\n",
      "CCCTTCGTGGTACTAGCGGGCGGCAATCCCTTAAATATCTAGGCCCGTACCATCGACAGG\n",
      "GCAGATTGGCATTTATTTCTGGGCCTACACAAATGCGAATAACGATTACTAGCCGAGCAC\n",
      "TCTCTTTTATGACAAGAGGGTTTCACATCCTCTTAGTATGTCCCGCACAATAACTTTTGC\n",
      "GCAAAAGTGCTCTTGTTTATTTAGTGAATATCCAGGGGTAAGTGCTAATATGTGAGCGCT\n",
      "GCTCTGCAGTTATGATGACCGGTTCATAGTTGCTCGTATTGGCACATGTACGGAAAGGCA\n",
      "AATCATTCAAGTTTTGGGGAGGAATATGGCGGCCCACCTCCTTGGCCCACGGAGTCCCGC\n",
      "CTTTGCGCTGGTGAAGGTGTCACTGCCCCCTAGATCATACCGCACTAAGTGGGGCCTGTA\n",
      "TCGAAGGGTTTCTTGTTTAGGACAATCTTTGCTGTCTTCTTCACCCAATCACAGCTTGAT\n",
      "TGAATGAGTAATCACTGAACATCGGGAGGCTCCATTTACCTAAGAATTCAGACGCCTGGT\n",
      "TGGATCTGTGAGACACTCACGTATGGATGTTAACGACAAGGCACCTGGGGTACTTGTAAC\n",
      "AAGTCATACACTATGCTGGGTACTACCCCAACGCAGAGTTTATGCCCCCATGCCACCGTT\n",
      "GCCTTCACGTCACCACCATTCATCATCTAGCGAGGCCCTGGTGTCCTATTTTGTAGAGGG\n",
      "GATATCTAGTGAGGGCCTATCATGCCACGGACGAGAACATAAAAATCTATAAAGAGCCTG\n",
      "GTTCGATTCTGATAACCTAAAAGCTAAAACTGAGATGTTTGGCCCTTCGCGGGACCTGCA\n",
      "GGTCGAGCTCCACCGGAGGGGTCCTCTCTAGAGG\n",
      ">Rosalind_9816\n",
      "TAGTGTGGGAAGCTTAACAAGCTGCGAACTGCAACTCAAACTTAAGACACCGCTCCGAAC\n",
      "TTCAAAAACGGGCCATGCGCATCGAGGGACGATAAACGTACGAAGTCACAGAGCCTCGCT\n",
      "CGTGGACAGTCCACAGCGTTCCCACGTTGTTGAGGTTGAGTCCTACTAAACGTAGGATTA\n",
      "TTGTAGTGCCCCACTAGGAGCTGTTTTACTAGGTTGCCCTGACCCGTTGCTAATTAACCA\n",
      "ACGGTTTTGGTTCTTTCCTGCGGTAATTAGAGGCTAATGAGTATACCACGTCTCGTTGTC\n",
      "CGCGGCCTCCTTCCTGGGCGTTGAGCTTTGGACGACATTCCAAGCCAAAATTCGATGGCT\n",
      "TGACACGGCATCGGACTGAATGTTGATGAACCATTTCCTACGCCATGCCTTGCCCATTTA\n",
      "CTCATAGGAGTTATCAGATGAGCTATATAGGAAACGTGCCAGGTTGAGCAGCGTGTAAGA\n",
      "GTGAATACCCTCCATATCGGTCGCTAAAGGTCTTCTTGAAATGCTTCGCTCTTCGGAAAA\n",
      "TTCGCGGCGTCGTGTGCCCTGGGCGGAGTTACATCAATTTGTTCAGGCAATGCACACTCC\n",
      "GAGTCCTACTCTGCCAAACCTAGTGCGATCTGACTCCAATTACAGTTTTTAGGGGGTGTC\n",
      "TTCAAACACAAAGTCTCCGACCGTCCTGTCGCGGGTAGGGTGTTTAGAAATGACGTAATG\n",
      "GAACATACCAATGCTCCCTGGGTTGTATGGAGTAGCACCTATACAAAGGTAAATGGAACT\n",
      "CCTAGGGAGGAATGACTGCCGCATTCGACATCACCCAATCTATGCTCGGGTCCTTTCTCT\n",
      "AAAGCTGGTGCGTTAACGTGATTGCAGGTCCGGAACACAAGGCACGAGTGCGTTATAGCT\n",
      "CAAAGAACGTATATGCAAGGCCGTGTGGGTCCATTTTATGCCTGACCTGCGTCCCTTTTA\n",
      "CATCTGGTATGCCACCAAACTTAGACAAGGCGCCCTCCGG\n",
      ">Rosalind_5517\n",
      "GGCGAACATAGGTTAAGTCAAGACCGGAGCCTCTTCGATGAAGAAGAATCATCATATGCA\n",
      "TTGAGGAATAACCCTACCTACGCAATCGATAAATTGGGTGAATGAACCCAAGGGGCTGGA\n",
      "AGTATATATCATGGGAAAAGTCAGACATAGCTTTCAAGCCATAATAGGGAATCCGTAGAC\n",
      "CATGAGGTAAGCGCTTGTATTTTCAAGTCCCGTACATAAGAGTGCTCAGTCACAAGGATT\n",
      "AAGGACTGACGAGTTTCATCGAACGACAAGTGACTCATATGCGCTACAGTACCGGGGCGA\n",
      "TACCCCTGGCAAGGCAGACACAAGAGGGATAATAGGAGTCTCCGTACAGTAGCGGGAACC\n",
      "ATCTACTCTTTGTTGTCTATTTCGCACAAACTGTGTCGTGTACTGGTAGACCCTTGGTTC\n",
      "TTGAGTCATGCTGGGACACCCAACCAGTAGGGAGAATTTTTCAGCAGCGAGGCAACGCGC\n",
      "ATTGACTATTAAACAAGACACAGCAAAGATATACTACTTAGGTATATGCTTTTAGAGGAG\n",
      "CCTATTCAATTATAGTAACCATCGTTTGTTCGCCAGTTAGATGTCGGTATGTACGACGAC\n",
      "AACGGGGATTCCTAACGCCCTCTAGGATACTACCAATATCCTCTAGGCCACCTTACATTC\n",
      "ATAGCACGTTCCAATACCGTTAGCTTCCATGGAGGTGAAATGAACCCACGGTATTCCGTG\n",
      "TAATGCTGCTTGTTGTGAGCTTGGGCCAGACCGATTTTAATATAACCCGAGGCTGGTGGG\n",
      "GCTGTTGGGAAACGGCCGTGCGGAGCCGGAATGATGTTGGCTTTTCTACAAGCCTTGTCA\n",
      "TAAGAAAGGGCCAGCCGCGCCTCATTCATTTATGCCGCATCGGAGTGGTCACTTTCGAGT\n",
      "ACCTCTAGTGCG\n"
     ]
    }
   ],
   "source": [
    "with open('data/coding_challenge_data_set.txt') as f:\n",
    "    data = f.read()\n",
    "    \n",
    "print(data[:3000])"
   ]
  },
  {
   "cell_type": "markdown",
   "metadata": {},
   "source": [
    "# Shape the data"
   ]
  },
  {
   "cell_type": "code",
   "execution_count": 35,
   "metadata": {
    "collapsed": false
   },
   "outputs": [
    {
     "data": {
      "text/plain": [
       "('Rosalind_1836', Counter({'A': 248, 'C': 241, 'G': 243, 'T': 262}))"
      ]
     },
     "execution_count": 35,
     "metadata": {},
     "output_type": "execute_result"
    }
   ],
   "source": [
    "d = data.split('>')[1]\n",
    "name_and_sequence(d)"
   ]
  },
  {
   "cell_type": "code",
   "execution_count": 38,
   "metadata": {
    "collapsed": false
   },
   "outputs": [
    {
     "data": {
      "text/plain": [
       "['Frag_56\\nATTAGACCTG\\n', 'Frag_57\\nCCTGCCGGAA\\n', 'Frag_58\\nAGACCTGCCG\\n']"
      ]
     },
     "execution_count": 38,
     "metadata": {},
     "output_type": "execute_result"
    }
   ],
   "source": [
    "sequences[:3]"
   ]
  },
  {
   "cell_type": "code",
   "execution_count": null,
   "metadata": {
    "collapsed": true
   },
   "outputs": [],
   "source": [
    "from collections import Counter\n",
    "def name_and_sequence(paragraph):\n",
    "    name, sequence = paragraph.split('\\n', 1)\n",
    "    return name, Counter(sequence.replace('\\n', ''))\n",
    "    \n",
    "def counts_df(fasta_string):\n",
    "    sequence_strings = fasta_string.split('>')[1:]\n",
    "    sequence_counts = (name_and_sequence(seq) for seq in sequence_strings)\n",
    "    return pd.DataFrame({name: counts for name, counts in sequence_counts}).T"
   ]
  },
  {
   "cell_type": "code",
   "execution_count": 59,
   "metadata": {
    "collapsed": false
   },
   "outputs": [
    {
     "data": {
      "text/html": [
       "<div>\n",
       "<table border=\"1\" class=\"dataframe\">\n",
       "  <thead>\n",
       "    <tr style=\"text-align: right;\">\n",
       "      <th></th>\n",
       "      <th>A</th>\n",
       "      <th>C</th>\n",
       "      <th>G</th>\n",
       "      <th>T</th>\n",
       "    </tr>\n",
       "  </thead>\n",
       "  <tbody>\n",
       "    <tr>\n",
       "      <th>Rosalind_0030</th>\n",
       "      <td>257</td>\n",
       "      <td>247</td>\n",
       "      <td>234</td>\n",
       "      <td>260</td>\n",
       "    </tr>\n",
       "    <tr>\n",
       "      <th>Rosalind_0087</th>\n",
       "      <td>262</td>\n",
       "      <td>239</td>\n",
       "      <td>227</td>\n",
       "      <td>253</td>\n",
       "    </tr>\n",
       "    <tr>\n",
       "      <th>Rosalind_0093</th>\n",
       "      <td>249</td>\n",
       "      <td>248</td>\n",
       "      <td>234</td>\n",
       "      <td>252</td>\n",
       "    </tr>\n",
       "    <tr>\n",
       "      <th>Rosalind_0312</th>\n",
       "      <td>286</td>\n",
       "      <td>226</td>\n",
       "      <td>249</td>\n",
       "      <td>231</td>\n",
       "    </tr>\n",
       "    <tr>\n",
       "      <th>Rosalind_0368</th>\n",
       "      <td>253</td>\n",
       "      <td>254</td>\n",
       "      <td>231</td>\n",
       "      <td>255</td>\n",
       "    </tr>\n",
       "  </tbody>\n",
       "</table>\n",
       "</div>"
      ],
      "text/plain": [
       "                 A    C    G    T\n",
       "Rosalind_0030  257  247  234  260\n",
       "Rosalind_0087  262  239  227  253\n",
       "Rosalind_0093  249  248  234  252\n",
       "Rosalind_0312  286  226  249  231\n",
       "Rosalind_0368  253  254  231  255"
      ]
     },
     "execution_count": 59,
     "metadata": {},
     "output_type": "execute_result"
    }
   ],
   "source": [
    "example_counts = counts_df(example_input)\n",
    "counts = counts_df(data)\n",
    "counts.head()"
   ]
  },
  {
   "cell_type": "markdown",
   "metadata": {},
   "source": [
    "# Plot the data"
   ]
  },
  {
   "cell_type": "markdown",
   "metadata": {},
   "source": [
    "### How long are these sequences?"
   ]
  },
  {
   "cell_type": "code",
   "execution_count": 97,
   "metadata": {
    "collapsed": false
   },
   "outputs": [
    {
     "name": "stderr",
     "output_type": "stream",
     "text": [
      "/Users/matt/anaconda/lib/python3.4/site-packages/statsmodels/nonparametric/kdetools.py:20: VisibleDeprecationWarning: using a non-integer number instead of an integer will result in an error in the future\n",
      "  y = X[:m/2+1] + np.r_[0,X[m/2+1:],0]*1j\n"
     ]
    },
    {
     "data": {
      "text/plain": [
       "<matplotlib.axes._subplots.AxesSubplot at 0x10ebda748>"
      ]
     },
     "execution_count": 97,
     "metadata": {},
     "output_type": "execute_result"
    },
    {
     "data": {
      "image/png": "[encoded data removed]",
      "text/plain": [
       "<matplotlib.figure.Figure at 0x1126183c8>"
      ]
     },
     "metadata": {},
     "output_type": "display_data"
    }
   ],
   "source": [
    "sequence_lengths = counts.sum(axis=1)\n",
    "bin_range = range(sequence_lengths.min(), sequence_lengths.max())\n",
    "sns.distplot(sequence_lengths, bins=bin_range)"
   ]
  },
  {
   "cell_type": "markdown",
   "metadata": {},
   "source": [
    "### What does the nucleotide distribution look like? Sanity check: any outliers?"
   ]
  },
  {
   "cell_type": "code",
   "execution_count": 57,
   "metadata": {
    "collapsed": false
   },
   "outputs": [
    {
     "data": {
      "text/plain": [
       "<matplotlib.axes._subplots.AxesSubplot at 0x10ebd6550>"
      ]
     },
     "execution_count": 57,
     "metadata": {},
     "output_type": "execute_result"
    },
    {
     "data": {
      "image/png": "[encoded data removed]",
      "text/plain": [
       "<matplotlib.figure.Figure at 0x10c485cf8>"
      ]
     },
     "metadata": {},
     "output_type": "display_data"
    },
    {
     "data": {
      "image/png": "[encoded data removed]",
      "text/plain": [
       "<matplotlib.figure.Figure at 0x10c485a20>"
      ]
     },
     "metadata": {},
     "output_type": "display_data"
    }
   ],
   "source": [
    "counts_df(example_input).plot.bar(stacked=True)\n",
    "counts_df(data).plot.bar(stacked=True)"
   ]
  },
  {
   "cell_type": "markdown",
   "metadata": {},
   "source": [
    "# Align the sequences"
   ]
  },
  {
   "cell_type": "code",
   "execution_count": null,
   "metadata": {
    "collapsed": true
   },
   "outputs": [],
   "source": []
  }
 ],
 "metadata": {
  "kernelspec": {
   "display_name": "Python 3",
   "language": "python",
   "name": "python3"
  },
  "language_info": {
   "codemirror_mode": {
    "name": "ipython",
    "version": 3
   },
   "file_extension": ".py",
   "mimetype": "text/x-python",
   "name": "python",
   "nbconvert_exporter": "python",
   "pygments_lexer": "ipython3",
   "version": "3.4.4"
  }
 },
 "nbformat": 4,
 "nbformat_minor": 0
}
