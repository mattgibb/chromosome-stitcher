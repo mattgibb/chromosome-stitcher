{
 "cells": [
  {
   "cell_type": "markdown",
   "metadata": {},
   "source": [
    "# Matching Graphs, Reachability and Orders\n",
    "\n",
    "We can represent a set of sequences as nodes of a graph, with directed edges from source to sink representing a match between the suffix of the source and the prefix of the target. In order to string all of the sequences together, we need to find a [Hamiltonian path](https://en.wikipedia.org/wiki/Hamiltonian_path_problem) through the graph, which in general is NP-complete.\n",
    "\n",
    "The edges of the [transitive closure](https://en.wikipedia.org/wiki/Transitive_closure) of a relation or directed graph represent facts that a sink node is 'reachable' from a source node, by traversing one or more edges in the original graph. Further adding [reflexivity](https://en.wikipedia.org/wiki/Reflexive_relation) to the closure defines each node as reachable from itself, so that an edge represents *zero* or more traversals in the original graph.\n",
    "\n",
    "The two conditions of transitivity and reflexivity specify a [preorder](https://en.wikipedia.org/wiki/Preorder) on our set of sequences. Because it might be the case that two nodes can reach each other, [antisymmetry](https://en.wikipedia.org/wiki/Antisymmetric_relation) does not necessarily hold, and so we do not have a [partial order](https://en.wikipedia.org/wiki/Partially_ordered_set#Formal_definition). However, if we impose [symmetry](https://en.wikipedia.org/wiki/Symmetric_relation) by removing all directed edges between nodes that don't have a corresponding edge in the opposite direction, we define an [equivalence](https://en.wikipedia.org/wiki/Equivalence_relation), which partitions the set of nodes into one or more mutually exclusive and collectively exhaustive [equivalence classes](https://en.wikipedia.org/wiki/Equivalence_class) called [strongly connected components](https://en.wikipedia.org/wiki/Strongly_connected_component). In the case of our sequences, two sequences *a* and *b* are equivalent iff there exists both an alignment/path from *a* to *b* (possibly mediated by other sequences in between), and an alignment/path from *b* to *a*. These strongly connected components can be found in [linear time](https://en.wikipedia.org/wiki/Strongly_connected_component#Algorithms).\n",
    "\n",
    "# At Least One Hamiltonian\n",
    "\n",
    "By taking the quotient set of equivalence classes i.e. representing each equivalence class as a single node, we introduce antisymmetry and thus form a [partial order](https://en.wikipedia.org/wiki/Partially_ordered_set) of reachability. However, in the particular problem we are given, we know that there exists a Hamiltonian path within the graph, which implies [totality](https://en.wikipedia.org/wiki/Total_relation) and therefore a [total order](https://en.wikipedia.org/wiki/Total_order). In other words: walking along the Hamiltonian must allow you to get either from *a* to *b*, or *b* to *a*.\n",
    "\n",
    "This can be seen in the following example graph of overlaps between sequences:\n",
    "\n",
    "![Hello there](images/partially_ordered_reachability.jpg \"Partially ordered reachability\")\n",
    "\n",
    "Within each of the circled groups of nodes A B C D and E, each node is reachable from another. However, if two groups are not *related* by our partial order on equivalence classes, any path can go through at most one of them. For example, a Path starting at the node in A can never reach a node in B, and a path that includes any node in D cannot include a node in E.\n",
    "\n",
    "The presence of a Hamiltonian enforces a partial order such as below:\n",
    "\n",
    "![Hello there](images/totally_ordered_reachability.jpg \"Partially ordered reachability\")\n",
    "\n",
    "This structure suggests an algorithm of the following form:\n",
    "1. find the strongly connected components A B and C in linear time\n",
    "2. find all Hamiltonian paths in A and the set of their endnodes\n",
    "3. for each adjacent pair of components i.e. (A, B) and (B, C), limit the search for Hamiltonian paths in the next component to those starting from the endnodes of the previous component\n",
    "4. if at least one Hamiltonian is found in the last component, trace back up the components to reconstruct all the Hamiltonians\n",
    "\n",
    "In the case above:\n",
    "* component A has two Hamiltonians - (1,2,3,4,5) and (5,4,3,2,1), with endnodes (5, 1)\n",
    "* component B has only one Hamiltonian (5,4,3,2,1) with endnodes (1), which only the A's endnode 5 links to\n",
    "* component C has 5 Hamiltonians - all 5 the rotations of (1,2,3,4,5)\n",
    "\n",
    "There is therefore a single Hamiltonian that threads through all 3 sets of Hamiltonians, namely A1 A2 A3 A4 A5 B5 B4 B3 B2 B1 C1 C2 C3 C4 C5.\n",
    "\n",
    "# Exactly One Hamiltonian: Polynomial Time?\n",
    "For a short while it occured to me that, since a strongly connected component must contain at least one loop, it might be impossible for any component with more than one node to admit exactly one Hamiltonian path, either admitting zero or more than one. If this were true, any graph with more than one node and exactly one Hamiltonian would necessarily have more than one strongly connected component. I thought this might open the door to some sort of divide and conquer scheme, which could exploit the presence of exactly one Hamiltonian to find it in polynomial time.\n",
    "\n",
    "# Anticlimax\n",
    "Alas, for a number of reasons, this was not to be :-(\n",
    "\n",
    "# Moving Forward\n",
    "If the original sequence overlap graph is a DAG, then a topological sort can be used to get all Hamiltonians quickly. I also found an old paper by Frank Rubin (included in the repo as I had to buy it), detailing an algorithm that is pretty nippy in all but pathological cases, and which helped crystalise a lot of my vague intuitions about the problem. Gutted I didn't have time to implement it in the end, but it would easily slot in to the processing pipeline."
   ]
  }
 ],
 "metadata": {
  "kernelspec": {
   "display_name": "Python 3",
   "language": "python",
   "name": "python3"
  },
  "language_info": {
   "codemirror_mode": {
    "name": "ipython",
    "version": 3
   },
   "file_extension": ".py",
   "mimetype": "text/x-python",
   "name": "python",
   "nbconvert_exporter": "python",
   "pygments_lexer": "ipython3",
   "version": "3.4.4"
  }
 },
 "nbformat": 4,
 "nbformat_minor": 0
}
